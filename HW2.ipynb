{
  "nbformat": 4,
  "nbformat_minor": 0,
  "metadata": {
    "colab": {
      "name": "HW2.ipynb",
      "provenance": [],
      "include_colab_link": true
    },
    "kernelspec": {
      "name": "python3",
      "display_name": "Python 3"
    }
  },
  "cells": [
    {
      "cell_type": "markdown",
      "metadata": {
        "id": "view-in-github",
        "colab_type": "text"
      },
      "source": [
        "<a href=\"https://colab.research.google.com/github/yaolihua081/Stanford-CS06dataviz/blob/main/HW2.ipynb\" target=\"_parent\"><img src=\"https://colab.research.google.com/assets/colab-badge.svg\" alt=\"Open In Colab\"/></a>"
      ]
    },
    {
      "cell_type": "code",
      "metadata": {
        "id": "VmloSVZXNK8O",
        "outputId": "458a4c77-5fb6-4910-b28f-728e635c45c0",
        "colab": {
          "base_uri": "https://localhost:8080/",
          "height": 224
        }
      },
      "source": [
        "\n",
        "from nltk.corpus import stopwords \n",
        "\n",
        "import seaborn as sns\n",
        "from IPython.core.interactiveshell import InteractiveShell\n",
        "InteractiveShell.ast_node_interactivity = \"all\"\n",
        "import sys, platform, numpy as np, nltk, re, sklearn, pandas as pd, seaborn as sns, collections\n",
        "tmp = nltk.download(['stopwords', 'gutenberg','punkt'], quiet=True) # See https://www.nltk.org/book/ch02.html\n",
        "from sklearn.feature_extraction.text import CountVectorizer, TfidfTransformer, HashingVectorizer\n",
        "from sklearn.metrics.pairwise import cosine_similarity\n",
        "from sklearn.datasets import fetch_20newsgroups\n",
        "from sklearn.naive_bayes import MultinomialNB\n",
        "from sklearn.ensemble import RandomForestClassifier\n",
        "from sklearn.linear_model import LogisticRegression\n",
        "from sklearn.svm import LinearSVC\n",
        "from sklearn.model_selection import train_test_split\n",
        "from nltk.tokenize.casual import casual_tokenize\n",
        "from nltk.tokenize import TweetTokenizer\n",
        "from nltk import WordPunctTokenizer,RegexpTokenizer\n",
        "from gensim.summarization.summarizer import summarize\n",
        "from gensim.summarization import keywords as G_KEA\n",
        "!pip install rake-nltk # https://pypi.org/project/rake-nltk/\n",
        "from rake_nltk import Metric, Rake\n",
        "# Increase viewable area of Pandas tables, numpy arrays, plots\n",
        "pd.set_option('max_rows', 5, 'max_columns', 500, 'max_colwidth', 1, 'precision', 2)\n",
        "np.set_printoptions(linewidth=10000, precision=4, edgeitems=20, suppress=True)\n",
        "\n",
        "\n",
        "import matplotlib.pyplot as plt\n",
        "#https://www.cdc.gov/nchs/nvss/vsrr/covid19/excess_deaths.htm, united weekly death\n",
        "#https://data.cdc.gov/NCHS/Weekly-counts-of-death-by-jurisdiction-and-cause-o/u6jv-9ijr/"
      ],
      "execution_count": null,
      "outputs": [
        {
          "output_type": "stream",
          "text": [
            "Collecting rake-nltk\n",
            "  Downloading https://files.pythonhosted.org/packages/8e/c4/b4ff57e541ac5624ad4b20b89c2bafd4e98f29fd83139f3a81858bdb3815/rake_nltk-1.0.4.tar.gz\n",
            "Requirement already satisfied: nltk in /usr/local/lib/python3.6/dist-packages (from rake-nltk) (3.2.5)\n",
            "Requirement already satisfied: six in /usr/local/lib/python3.6/dist-packages (from nltk->rake-nltk) (1.15.0)\n",
            "Building wheels for collected packages: rake-nltk\n",
            "  Building wheel for rake-nltk (setup.py) ... \u001b[?25l\u001b[?25hdone\n",
            "  Created wheel for rake-nltk: filename=rake_nltk-1.0.4-py2.py3-none-any.whl size=7819 sha256=57a86b89ebd36015d4b0516d3975ccf3d585d5361062fa6b290888434a71bf33\n",
            "  Stored in directory: /root/.cache/pip/wheels/ef/92/fc/271b3709e71a96ffe934b27818946b795ac6b9b8ff8682483f\n",
            "Successfully built rake-nltk\n",
            "Installing collected packages: rake-nltk\n",
            "Successfully installed rake-nltk-1.0.4\n"
          ],
          "name": "stdout"
        }
      ]
    },
    {
      "cell_type": "code",
      "metadata": {
        "id": "ogQcV00cNZC6",
        "outputId": "92439905-a2d7-4dd0-acdc-3f587bff7ddb",
        "colab": {
          "base_uri": "https://localhost:8080/",
          "height": 221
        }
      },
      "source": [
        "!pip install kaggle\n",
        "\n",
        "#pd.read_csv('/kaggle/working/test_candidate.csv')\n",
        "#need to load train.cvs and test_cvs\n"
      ],
      "execution_count": null,
      "outputs": [
        {
          "output_type": "stream",
          "text": [
            "Requirement already satisfied: kaggle in /usr/local/lib/python3.6/dist-packages (1.5.8)\n",
            "Requirement already satisfied: python-slugify in /usr/local/lib/python3.6/dist-packages (from kaggle) (4.0.1)\n",
            "Requirement already satisfied: python-dateutil in /usr/local/lib/python3.6/dist-packages (from kaggle) (2.8.1)\n",
            "Requirement already satisfied: urllib3<1.25,>=1.21.1 in /usr/local/lib/python3.6/dist-packages (from kaggle) (1.24.3)\n",
            "Requirement already satisfied: tqdm in /usr/local/lib/python3.6/dist-packages (from kaggle) (4.41.1)\n",
            "Requirement already satisfied: requests in /usr/local/lib/python3.6/dist-packages (from kaggle) (2.23.0)\n",
            "Requirement already satisfied: slugify in /usr/local/lib/python3.6/dist-packages (from kaggle) (0.0.1)\n",
            "Requirement already satisfied: certifi in /usr/local/lib/python3.6/dist-packages (from kaggle) (2020.6.20)\n",
            "Requirement already satisfied: six>=1.10 in /usr/local/lib/python3.6/dist-packages (from kaggle) (1.15.0)\n",
            "Requirement already satisfied: text-unidecode>=1.3 in /usr/local/lib/python3.6/dist-packages (from python-slugify->kaggle) (1.3)\n",
            "Requirement already satisfied: chardet<4,>=3.0.2 in /usr/local/lib/python3.6/dist-packages (from requests->kaggle) (3.0.4)\n",
            "Requirement already satisfied: idna<3,>=2.5 in /usr/local/lib/python3.6/dist-packages (from requests->kaggle) (2.10)\n"
          ],
          "name": "stdout"
        }
      ]
    },
    {
      "cell_type": "code",
      "metadata": {
        "id": "kf-CHCccHgft",
        "outputId": "d853fc72-6fb6-40a2-9c91-14440f4485fe",
        "colab": {
          "resources": {
            "http://localhost:8080/nbextensions/google.colab/files.js": {
              "data": "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",
              "ok": true,
              "headers": [
                [
                  "content-type",
                  "application/javascript"
                ]
              ],
              "status": 200,
              "status_text": ""
            }
          },
          "base_uri": "https://localhost:8080/",
          "height": 345
        }
      },
      "source": [
        "from google.colab import files\n",
        "files.upload()"
      ],
      "execution_count": null,
      "outputs": [
        {
          "output_type": "display_data",
          "data": {
            "text/html": [
              "\n",
              "     <input type=\"file\" id=\"files-bc778931-8748-4f2a-9762-61a8da6e15d9\" name=\"files[]\" multiple disabled\n",
              "        style=\"border:none\" />\n",
              "     <output id=\"result-bc778931-8748-4f2a-9762-61a8da6e15d9\">\n",
              "      Upload widget is only available when the cell has been executed in the\n",
              "      current browser session. Please rerun this cell to enable.\n",
              "      </output>\n",
              "      <script src=\"/nbextensions/google.colab/files.js\"></script> "
            ],
            "text/plain": [
              "<IPython.core.display.HTML object>"
            ]
          },
          "metadata": {
            "tags": []
          }
        },
        {
          "output_type": "error",
          "ename": "KeyboardInterrupt",
          "evalue": "ignored",
          "traceback": [
            "\u001b[0;31m---------------------------------------------------------------------------\u001b[0m",
            "\u001b[0;31mKeyboardInterrupt\u001b[0m                         Traceback (most recent call last)",
            "\u001b[0;32m<ipython-input-4-5c2e8a8d365b>\u001b[0m in \u001b[0;36m<module>\u001b[0;34m()\u001b[0m\n\u001b[1;32m      1\u001b[0m \u001b[0;32mfrom\u001b[0m \u001b[0mgoogle\u001b[0m\u001b[0;34m.\u001b[0m\u001b[0mcolab\u001b[0m \u001b[0;32mimport\u001b[0m \u001b[0mfiles\u001b[0m\u001b[0;34m\u001b[0m\u001b[0;34m\u001b[0m\u001b[0m\n\u001b[0;32m----> 2\u001b[0;31m \u001b[0mfiles\u001b[0m\u001b[0;34m.\u001b[0m\u001b[0mupload\u001b[0m\u001b[0;34m(\u001b[0m\u001b[0;34m)\u001b[0m\u001b[0;34m\u001b[0m\u001b[0;34m\u001b[0m\u001b[0m\n\u001b[0m",
            "\u001b[0;32m/usr/local/lib/python3.6/dist-packages/google/colab/files.py\u001b[0m in \u001b[0;36mupload\u001b[0;34m()\u001b[0m\n\u001b[1;32m     62\u001b[0m   result = _output.eval_js(\n\u001b[1;32m     63\u001b[0m       'google.colab._files._uploadFiles(\"{input_id}\", \"{output_id}\")'.format(\n\u001b[0;32m---> 64\u001b[0;31m           input_id=input_id, output_id=output_id))\n\u001b[0m\u001b[1;32m     65\u001b[0m   \u001b[0mfiles\u001b[0m \u001b[0;34m=\u001b[0m \u001b[0m_collections\u001b[0m\u001b[0;34m.\u001b[0m\u001b[0mdefaultdict\u001b[0m\u001b[0;34m(\u001b[0m\u001b[0m_six\u001b[0m\u001b[0;34m.\u001b[0m\u001b[0mbinary_type\u001b[0m\u001b[0;34m)\u001b[0m\u001b[0;34m\u001b[0m\u001b[0;34m\u001b[0m\u001b[0m\n\u001b[1;32m     66\u001b[0m   \u001b[0;31m# Mapping from original filename to filename as saved locally.\u001b[0m\u001b[0;34m\u001b[0m\u001b[0;34m\u001b[0m\u001b[0;34m\u001b[0m\u001b[0m\n",
            "\u001b[0;32m/usr/local/lib/python3.6/dist-packages/google/colab/output/_js.py\u001b[0m in \u001b[0;36meval_js\u001b[0;34m(script, ignore_result)\u001b[0m\n\u001b[1;32m     37\u001b[0m   \u001b[0;32mif\u001b[0m \u001b[0mignore_result\u001b[0m\u001b[0;34m:\u001b[0m\u001b[0;34m\u001b[0m\u001b[0;34m\u001b[0m\u001b[0m\n\u001b[1;32m     38\u001b[0m     \u001b[0;32mreturn\u001b[0m\u001b[0;34m\u001b[0m\u001b[0;34m\u001b[0m\u001b[0m\n\u001b[0;32m---> 39\u001b[0;31m   \u001b[0;32mreturn\u001b[0m \u001b[0m_message\u001b[0m\u001b[0;34m.\u001b[0m\u001b[0mread_reply_from_input\u001b[0m\u001b[0;34m(\u001b[0m\u001b[0mrequest_id\u001b[0m\u001b[0;34m)\u001b[0m\u001b[0;34m\u001b[0m\u001b[0;34m\u001b[0m\u001b[0m\n\u001b[0m\u001b[1;32m     40\u001b[0m \u001b[0;34m\u001b[0m\u001b[0m\n\u001b[1;32m     41\u001b[0m \u001b[0;34m\u001b[0m\u001b[0m\n",
            "\u001b[0;32m/usr/local/lib/python3.6/dist-packages/google/colab/_message.py\u001b[0m in \u001b[0;36mread_reply_from_input\u001b[0;34m(message_id, timeout_sec)\u001b[0m\n\u001b[1;32m     99\u001b[0m     \u001b[0mreply\u001b[0m \u001b[0;34m=\u001b[0m \u001b[0m_read_next_input_message\u001b[0m\u001b[0;34m(\u001b[0m\u001b[0;34m)\u001b[0m\u001b[0;34m\u001b[0m\u001b[0;34m\u001b[0m\u001b[0m\n\u001b[1;32m    100\u001b[0m     \u001b[0;32mif\u001b[0m \u001b[0mreply\u001b[0m \u001b[0;34m==\u001b[0m \u001b[0m_NOT_READY\u001b[0m \u001b[0;32mor\u001b[0m \u001b[0;32mnot\u001b[0m \u001b[0misinstance\u001b[0m\u001b[0;34m(\u001b[0m\u001b[0mreply\u001b[0m\u001b[0;34m,\u001b[0m \u001b[0mdict\u001b[0m\u001b[0;34m)\u001b[0m\u001b[0;34m:\u001b[0m\u001b[0;34m\u001b[0m\u001b[0;34m\u001b[0m\u001b[0m\n\u001b[0;32m--> 101\u001b[0;31m       \u001b[0mtime\u001b[0m\u001b[0;34m.\u001b[0m\u001b[0msleep\u001b[0m\u001b[0;34m(\u001b[0m\u001b[0;36m0.025\u001b[0m\u001b[0;34m)\u001b[0m\u001b[0;34m\u001b[0m\u001b[0;34m\u001b[0m\u001b[0m\n\u001b[0m\u001b[1;32m    102\u001b[0m       \u001b[0;32mcontinue\u001b[0m\u001b[0;34m\u001b[0m\u001b[0;34m\u001b[0m\u001b[0m\n\u001b[1;32m    103\u001b[0m     if (reply.get('type') == 'colab_reply' and\n",
            "\u001b[0;31mKeyboardInterrupt\u001b[0m: "
          ]
        }
      ]
    },
    {
      "cell_type": "code",
      "metadata": {
        "id": "cUMw_st1Turz"
      },
      "source": [
        "ls"
      ],
      "execution_count": null,
      "outputs": []
    },
    {
      "cell_type": "code",
      "metadata": {
        "id": "fycuzZfjSkt8"
      },
      "source": [
        "#covid19_by_country = pd.read_csv('covid19_by_country.csv') \n",
        "#covid19_by_country#96, 28\n",
        "#Crime_Data = pd.read_csv('CrimeData.csv') \n",
        "#AgeMedian_Data= pd.read_csv('AgeMedian.csv') \n",
        "United_States_Covid=pd.read_csv('United_States_Covid.csv')\n",
        "Weekly_Death_data=pd.read_csv('Weekly Death.csv')\n",
        "#World_Covid=pd.read_csv('owid-covid-data.csv')\n",
        "USAStateABV_data=pd.read_csv('USAStateABV.csv')"
      ],
      "execution_count": null,
      "outputs": []
    },
    {
      "cell_type": "code",
      "metadata": {
        "id": "YQ5g4iX5XgTr"
      },
      "source": [
        ""
      ],
      "execution_count": null,
      "outputs": []
    },
    {
      "cell_type": "code",
      "metadata": {
        "id": "qAuk_EUEaOmJ"
      },
      "source": [
        "World_Covid=pd.read_csv('owid-covid-data.csv')\n",
        "filter=World_Covid['continent']\n",
        "temp=World_Covid.groupby(['continent'])['new_deaths_smoothed_per_million'].sum()\n",
        "#np.sort(temp)\n",
        "filter=temp> 600\n",
        "prime_continet_name=temp[filter].index\n",
        "filter1 = World_Covid['continent'].apply(lambda x: x in prime_continet_name)\n",
        "World_Covid=World_Covid[filter1] #delte those continet with small death\n",
        "\n",
        "worl_data_name=World_Covid.columns.unique()\n",
        "worl_data_name\n",
        "country_name=World_Covid['iso_code'].unique()\n",
        "#len(country_name)#212\n",
        "#country_name\n",
        "\n",
        "country_location_name=World_Covid['location'].unique()#212 country location\n",
        "continent_name=World_Covid['continent'].unique() #7 continent reduced to 5 continent now\n",
        "continent_name\n",
        "World_Covid.shape\n",
        "#need to delete those that 'total_cases' 'total_deaths', is NAN\n",
        "#filter=World_Covid['total_cases']==NaN\n",
        "World_Covid.dropna(subset=['total_cases','total_deaths'], inplace=True)\n",
        "#World_Covid.dropna()\n",
        "#World_Covid = World_Covid.reset_index(drop = True) \n",
        "World_Covid.shape#46416,41\n"
      ],
      "execution_count": null,
      "outputs": []
    },
    {
      "cell_type": "code",
      "metadata": {
        "id": "h834iD5F3OQL"
      },
      "source": [
        "#\n",
        "def indicator(x, a):\n",
        "  if x > a:\n",
        "    y='yes'\n",
        "  else:\n",
        "    y='no'\n",
        "  return y  \n",
        "\n",
        "\n",
        "\n",
        "World_Covid['aging_index']= World_Covid['aged_65_older'].apply(lambda x: indicator(x,14.76))\n",
        "World_Covid['poverty_index']= World_Covid['extreme_poverty'].apply(lambda x: indicator(x,18.80))\n",
        "World_Covid['month']=pd.DatetimeIndex(World_Covid['date']).month\n",
        "filter=World_Covid['month'] <= 10 #delte month that is 11, 12\n",
        "World_Covid=World_Covid[filter]\n",
        "World_Covid['log_total_cases']=np.log(World_Covid['total_cases'])\n",
        "World_Covid['log_total_deaths']=np.log(World_Covid['total_deaths'])\n",
        "World_Covid['log_population']=np.log(World_Covid['population'])\n",
        "World_Covid['death_rate']=100*World_Covid['total_deaths']/World_Covid['population']\n",
        "World_Covid['cases_rate']=100*World_Covid['total_cases']/World_Covid['population']\n",
        "World_Covid['test_rate']=100*World_Covid['total_tests']/World_Covid['population']\n",
        "last_date=np.sort(World_Covid['date'])[-1]\n",
        "filter=World_Covid['date']==last_date\n",
        "Oct08_data=World_Covid[filter]\n",
        "Oct08_data\n",
        "#total case for each month\n",
        "\n"
      ],
      "execution_count": null,
      "outputs": []
    },
    {
      "cell_type": "code",
      "metadata": {
        "id": "1BBVeroZaH2X"
      },
      "source": [
        ""
      ],
      "execution_count": null,
      "outputs": []
    },
    {
      "cell_type": "code",
      "metadata": {
        "id": "iB7yt9yBc180"
      },
      "source": [
        "#Track those country names that have higher death_rate\n",
        "Oct08_data.shape #199,48\n",
        "#np.sort(Oct08_data['death_rate'])[-50:] \n",
        "#np.sort(Oct08_data['total_deaths'])[-30:] \n",
        "filter=Oct08_data['total_deaths'] > 5000\n",
        "Worst_country_Oct08_data=Oct08_data[filter] #28,48\n",
        "Worst_country_Oct08_data"
      ],
      "execution_count": null,
      "outputs": []
    },
    {
      "cell_type": "code",
      "metadata": {
        "id": "fWYCKC1lboJ7"
      },
      "source": [
        "#plot 2020-10-08\n",
        "locations=Worst_country_Oct08_data['location'].unique()\n",
        "plt.figure(figsize=(8, 8))\n",
        "#sns.lineplot(x='month',y='total_cases_per_million', hue='continent',size='aged_65_older',data=World_Covid)\n",
        "sns.scatterplot(x='log_population',y='death_rate', hue='continent',data=Worst_country_Oct08_data)\n",
        "for i in range(len(locations)):\n",
        "  #plt.annotate(locations[i], (Worst_country_Oct08_data['population'].tolist()[i], Worst_country_Oct08_data['death_rate'].tolist()[i]))\n",
        "  plt.annotate(locations[i], (Worst_country_Oct08_data['log_population'].tolist()[i], Worst_country_Oct08_data['death_rate'].tolist()[i]))\n",
        " \n",
        "plt.title(\"Covid-19 Death Percentage by Population Size for Countries of at least 5000 Death by 2020-10-08 \")\n",
        "#plt.show"
      ],
      "execution_count": null,
      "outputs": []
    },
    {
      "cell_type": "code",
      "metadata": {
        "id": "LsAICI1XbCi1"
      },
      "source": [
        "#plot 2020-10-08\n",
        "locations=Worst_country_Oct08_data['location'].unique()\n",
        "\n",
        "#sns.lineplot(x='month',y='total_cases_per_million', hue='continent',size='aged_65_older',data=World_Covid)\n",
        "sns.scatterplot(x='test_rate',y='death_rate', hue='continent',data=Worst_country_Oct08_data)\n",
        "for i in range(len(locations)):\n",
        "  #plt.annotate(locations[i], (Worst_country_Oct08_data['population'].tolist()[i], Worst_country_Oct08_data['death_rate'].tolist()[i]))\n",
        "  plt.annotate(locations[i], (Worst_country_Oct08_data['test_rate'].tolist()[i], Worst_country_Oct08_data['death_rate'].tolist()[i]))\n",
        " \n",
        "plt.title(\"Covid-19 Death rate against test rate for Countries of at least 5000 Death by 2020-10-08 \")\n",
        "#plt.show"
      ],
      "execution_count": null,
      "outputs": []
    },
    {
      "cell_type": "code",
      "metadata": {
        "id": "v9VH93FE_wbu"
      },
      "source": [
        "#plot 2020-10-08\n",
        "locations=Worst_country_Oct08_data['location'].unique()\n",
        "plt.figure(figsize=(8, 8))\n",
        "#sns.lineplot(x='month',y='total_cases_per_million', hue='continent',size='aged_65_older',data=World_Covid)\n",
        "sns.scatterplot(x='population',y='death_rate', hue='continent',data=Worst_country_Oct08_data)\n",
        "for i in range(len(locations)):\n",
        "  #plt.annotate(locations[i], (Worst_country_Oct08_data['population'].tolist()[i], Worst_country_Oct08_data['death_rate'].tolist()[i]))\n",
        "  plt.annotate(locations[i], (Worst_country_Oct08_data['population'].tolist()[i], Worst_country_Oct08_data['death_rate'].tolist()[i]))\n",
        " \n",
        "plt.title(\"Covid-19 Death Percentage by Population Size for Countries of at least 5000 Death by 2020-10-08 \")\n",
        "#plt.show"
      ],
      "execution_count": null,
      "outputs": []
    },
    {
      "cell_type": "code",
      "metadata": {
        "id": "KCL8fjOFpyu8"
      },
      "source": [
        "#plot 2020-10-08\n",
        "locations=Worst_country_Oct08_data['location'].unique()\n",
        "plt.figure(figsize=(8, 8))\n",
        "#sns.lineplot(x='month',y='total_cases_per_million', hue='continent',size='aged_65_older',data=World_Covid)\n",
        "sns.scatterplot(x='log_population',y='cases_rate', hue='continent',data=Worst_country_Oct08_data)\n",
        "for i in range(len(locations)):\n",
        "  #plt.annotate(locations[i], (Worst_country_Oct08_data['population'].tolist()[i], Worst_country_Oct08_data['death_rate'].tolist()[i]))\n",
        "  plt.annotate(locations[i], (Worst_country_Oct08_data['log_population'].tolist()[i], Worst_country_Oct08_data['cases_rate'].tolist()[i]))\n",
        " \n",
        "plt.title(\"Covid-19 Cases Percentage by Population Size for Countries of at least 5000 Death by 2020-10-08 \")\n",
        "#plt.show"
      ],
      "execution_count": null,
      "outputs": []
    },
    {
      "cell_type": "code",
      "metadata": {
        "id": "OTqUoJc2_-qN"
      },
      "source": [
        "#plot 2020-10-08\n",
        "locations=Worst_country_Oct08_data['location'].unique()\n",
        "plt.figure(figsize=(8, 8))\n",
        "#sns.lineplot(x='month',y='total_cases_per_million', hue='continent',size='aged_65_older',data=World_Covid)\n",
        "sns.scatterplot(x='population',y='cases_rate', hue='continent',data=Worst_country_Oct08_data)\n",
        "for i in range(len(locations)):\n",
        "  #plt.annotate(locations[i], (Worst_country_Oct08_data['population'].tolist()[i], Worst_country_Oct08_data['death_rate'].tolist()[i]))\n",
        "  plt.annotate(locations[i], (Worst_country_Oct08_data['population'].tolist()[i], Worst_country_Oct08_data['cases_rate'].tolist()[i]))\n",
        " \n",
        "plt.title(\"Covid-19 Cases Percentage by Population Size for Countries of at least 5000 Death by 2020-10-08 \")\n",
        "#plt.show"
      ],
      "execution_count": null,
      "outputs": []
    },
    {
      "cell_type": "code",
      "metadata": {
        "id": "Mg7Tpqp9O-vm"
      },
      "source": [
        "#define total case for each month each country\n",
        "country_month_case_sum=World_Covid.groupby(['location','month'])['new_cases'].sum()\n",
        "#state_name=country_month_sum.index\n",
        "#state_sum[state_name[1]]\n",
        "#country_month_case_sum\n",
        "#pd.DataFrame(country_month_case_sum.values)\n",
        "temp=pd.DataFrame(country_month_case_sum)\n",
        "temp=pd.DataFrame(temp.index.tolist())\n",
        "\n",
        "temp=pd.concat([temp,pd.DataFrame(country_month_case_sum.values)],axis=1).reindex(temp.index)\n",
        "temp.columns=['location','month','total_cases']\n",
        "country_month_cases=temp\n",
        "#\n",
        "country_month_deaths_sum=World_Covid.groupby(['location','month'])['new_deaths'].sum()\n",
        "country_month_deaths_sum\n",
        "\n",
        "temp=pd.DataFrame(country_month_deaths_sum)\n",
        "temp=pd.DataFrame(temp.index.tolist())\n",
        "\n",
        "temp=pd.concat([temp,pd.DataFrame(country_month_deaths_sum.values)],axis=1).reindex(temp.index)\n",
        "temp.columns=['location','month','total_deaths']\n",
        "country_month_deaths=temp\n"
      ],
      "execution_count": null,
      "outputs": []
    },
    {
      "cell_type": "code",
      "metadata": {
        "id": "phKEomdSAy8_"
      },
      "source": [
        "#country_month_deaths\n",
        "#country_month_cases\n",
        "worst_covid_country_names=worst_covid_country['location'].unique()\n",
        "worst_covid_country_names\n",
        "country_month_cases['location']\n",
        "worst_covid_country_month_cases=country_month_cases[country_month_cases['location'].apply(lambda x: x in worst_covid_country_names)]\n",
        "worst_covid_country_month_deaths=country_month_deaths[country_month_deaths['location'].apply(lambda x: x in worst_covid_country_names)]\n",
        "worst_covid_country_month_cases['total_cases_per_ten_thousand']=worst_covid_country_month_cases['total_cases']/10000\n",
        "worst_covid_country_month_deaths['total_deaths_per_ten_thousand']=worst_covid_country_month_deaths['total_deaths']/10000\n",
        "sns.scatterplot(x='month',y='total_cases_per_ten_thousand', hue='location',data=worst_covid_country_month_cases)\n",
        "plt.title(\"Total Cases for each month for Countries that have death bigger than 40000 by 10-08-2020\")\n",
        "plt.show()\n",
        "\n",
        "sns.scatterplot(x='month',y='total_deaths_per_ten_thousand', hue='location', data=worst_covid_country_month_deaths)\n",
        "plt.title(\"Total Deaths for each month for Countries that have death bigger than 40000 by 10-08-2020\")\n",
        "plt.show()"
      ],
      "execution_count": null,
      "outputs": []
    },
    {
      "cell_type": "code",
      "metadata": {
        "id": "yp3C_igjR6Ep"
      },
      "source": [
        "sns.scatterplot(x='month',y='total_deaths_per_ten_thousand', hue='location', data=worst_covid_country_month_deaths)\n",
        "plt.title(\"Total Deaths for each month for Countries that have death bigger than 40000 by 10-08-2020\")\n",
        "plt.show()"
      ],
      "execution_count": null,
      "outputs": []
    },
    {
      "cell_type": "code",
      "metadata": {
        "id": "MQEmSGh8UJ_V"
      },
      "source": [
        "plt.figure(figsize=(15, 10))\n",
        "#sns.lineplot(x='month',y='total_cases_per_million', hue='continent',size='aged_65_older',data=World_Covid)\n",
        "sns.scatterplot(x='month',y='log_total_cases', hue='continent',size='aging_index',data=World_Covid)\n",
        "plt.title(\"Log Total Cases for All Countries in Each Month\")\n",
        "plt.show()"
      ],
      "execution_count": null,
      "outputs": []
    },
    {
      "cell_type": "code",
      "metadata": {
        "id": "HNiomTO1UGRa"
      },
      "source": [
        "plt.figure(figsize=(15, 10))\n",
        "#sns.lineplot(x='month',y='total_cases_per_million', hue='continent',size='aged_65_older',data=World_Covid)\n",
        "sns.scatterplot(x='date',y='log_total_cases', hue='continent',size='aging_index',data=World_Covid)\n",
        "plt.title(\"Log Total Cases for All Countries from January to October\")\n",
        "plt.show()"
      ],
      "execution_count": null,
      "outputs": []
    },
    {
      "cell_type": "code",
      "metadata": {
        "id": "v-e1DrrFVSlL"
      },
      "source": [
        "\n",
        "plt.figure(figsize=(15, 10))\n",
        "#sns.lineplot(x='month',y='total_cases_per_million', hue='continent',size='aged_65_older',data=World_Covid)\n",
        "sns.scatterplot(x='test_rate',y='log_total_cases', hue='continent',size='poverty_index',data=World_Covid)\n",
        "plt.title(\"test rate against Log Total Cases for All Countries from January to October\")\n",
        "plt.show()"
      ],
      "execution_count": null,
      "outputs": []
    },
    {
      "cell_type": "code",
      "metadata": {
        "id": "bpLMcO4ua0tV"
      },
      "source": [
        "plt.figure(figsize=(15, 10))\n",
        "#sns.lineplot(x='month',y='total_cases_per_million', hue='continent',size='aged_65_older',data=World_Covid)\n",
        "#sns.scatterplot(x='log_total_cases',y='log_total_deaths', hue='continent',size='aged_65_older',data=World_Covid)\n",
        "sns.scatterplot(x='log_total_cases',y='log_total_deaths', hue='continent',size='month',data=World_Covid)\n",
        "#sns.scatterplot(x='log_total_cases',y='log_total_deaths', hue='continent',data=Oct08_data)\n",
        "#Annotate(\"US Gross\",USgross_cut, \"Worldwide Gross\", WorldGross_cut, movietitle)\n",
        "#plt.title(\"Log Death against Log Total Cases for all countries by 2020-10-08\")\n",
        "plt.title(\"Log Death against Log Total Cases for all countries\")\n",
        "plt.show()\n"
      ],
      "execution_count": null,
      "outputs": []
    },
    {
      "cell_type": "code",
      "metadata": {
        "id": "6H0AmMffuYfX"
      },
      "source": [
        "last_date=np.sort(World_Covid['date'])[-1]\n",
        "filter=World_Covid['date']==last_date"
      ],
      "execution_count": null,
      "outputs": []
    },
    {
      "cell_type": "code",
      "metadata": {
        "id": "eQ1nUt9yePTU"
      },
      "source": [
        "#histogram\n",
        "plt.figure(figsize=(20, 10))\n",
        "#sns.catplot(x='log_total_cases',y='log_total_deaths, kind=\"box\", data=tips)\n",
        "sns.catplot(x='month',y='total_deaths', hue=\"continent\", kind=\"bar\", data=World_Covid)\n",
        "plt.title(\"Deathby Continent\")\n",
        "plt.show()\n",
        "#order=[\"log_total_cases\", \"log_total_deaths\"]"
      ],
      "execution_count": null,
      "outputs": []
    },
    {
      "cell_type": "code",
      "metadata": {
        "id": "GjgnoFFGjGTC"
      },
      "source": [
        "sns.catplot(x=\"month\", y=\"total_deaths\", hue=\"aging_index\",\n",
        "            col=\"continent\", height=5, aspect=0.5,\n",
        "            kind=\"bar\", data=World_Covid)\n",
        "\n",
        "#plt.title(\"Death by Continent, aging_index='yes' 14 % older than 65\")\n",
        "plt.show()\n",
        "plt.savefig(\"\\LihuaDisk\\StanfordVisuizationCS06\\hist_death_aging.svg\")"
      ],
      "execution_count": null,
      "outputs": []
    },
    {
      "cell_type": "code",
      "metadata": {
        "id": "SiyAVUcLnCv4"
      },
      "source": [
        "plt.figure(figsize=(20, 10))\n",
        "sns.catplot(x=\"month\", y=\"total_deaths\", hue=\"poverty_index\",\n",
        "            col=\"continent\", height=5, aspect=.5,\n",
        "            kind=\"bar\", data=World_Covid)\n",
        "#plt.title(\"Death by Continent, poverty_index='yes' 18 % of the population are extreme poor\")\n",
        "plt.show()\n",
        "plt.savefig(\"\\LihuaDisk\\StanfordVisuizationCS06\\hist_death_poverty.svg\")"
      ],
      "execution_count": null,
      "outputs": []
    },
    {
      "cell_type": "code",
      "metadata": {
        "id": "88F1w7eukjZ6"
      },
      "source": [
        ""
      ],
      "execution_count": null,
      "outputs": []
    },
    {
      "cell_type": "code",
      "metadata": {
        "id": "H9H8lWQDW6oJ"
      },
      "source": [
        "\n",
        "#look at Noth america\n",
        "filter=World_Covid['continent']=='North America'\n",
        "Noth_America=World_Covid[filter]\n",
        "\n",
        "plt.figure(figsize=(15, 10))\n",
        "#sns.lineplot(x='month',y='total_cases_per_million', hue='continent',size='aged_65_older',data=World_Covid)\n",
        "#sns.scatterplot(x='log_total_cases',y='log_total_deaths', hue='continent',size='aged_65_older',data=World_Covid)\n",
        "sns.lineplot(x='log_total_cases',y='log_total_deaths', hue='location',size='month',data=Noth_America)\n",
        "#Annotate(\"US Gross\",USgross_cut, \"Worldwide Gross\", WorldGross_cut, movietitle)\n",
        "plt.title(\"Log Death against Total Cases by Country in North_America\")\n",
        "plt.show()"
      ],
      "execution_count": null,
      "outputs": []
    },
    {
      "cell_type": "code",
      "metadata": {
        "id": "nfQIodOVOmLn"
      },
      "source": [
        "\n",
        "\n",
        "NorthAmericacountry_month_death_sum=Noth_America.groupby(['location'])['new_deaths'].sum()\n",
        "len(NorthAmericacountry_month_death_sum.index)\n",
        "np.sort(NorthAmericacountry_month_death_sum)[-10:]\n",
        "\n",
        "filter=NorthAmericacountry_month_death_sum >1000\n",
        "\n",
        "NorthAmerica_Worst_country=NorthAmericacountry_month_death_sum.index[filter]\n",
        "\n",
        "filter=Noth_America['location'].apply(lambda x: x in  NorthAmerica_Worst_country)\n",
        "\n",
        "dat=Noth_America[filter]\n",
        "dat\n",
        "\n"
      ],
      "execution_count": null,
      "outputs": []
    },
    {
      "cell_type": "code",
      "metadata": {
        "id": "HmjLTCfXRVxl"
      },
      "source": [
        "plt.figure(figsize=(15, 15))\n",
        "# plot\n",
        "#f, axes = plt.subplots(1, 2, figsize=(7, 7), sharex=True)\n",
        "sns.lineplot(x='month', y='log_total_deaths', hue='location', data=dat)\n",
        "plt.title(\"Log death each month for the worst Countries in North_America\")\n",
        "plt.show()\n",
        "\n",
        "\n",
        "#sns.lineplot(x='month', y='log_total_cases', hue='location', data=dat)\n",
        "#plt.title(\"Log total cases each month for the worst Country in North_America\")\n",
        "#plt.show()"
      ],
      "execution_count": null,
      "outputs": []
    },
    {
      "cell_type": "code",
      "metadata": {
        "id": "VHiKMUtOY-hj"
      },
      "source": [
        "\n",
        "country_death=World_Covid.groupby(['location'])['new_deaths'].sum()\n",
        "#np.sort(country_death)[-15:]\n",
        "filter=country_death> 40000\n",
        "worst_country=country_death.index[filter]# 30000 \n",
        "#worst_country\n",
        "\n",
        "\n",
        "filter=World_Covid['location'].apply(lambda x: x in worst_country)\n",
        "worst_covid_country=World_Covid[filter]\n",
        "filter=worst_covid_country['month'] <=10\n",
        "worst_covid_country=worst_covid_country[filter]\n",
        "#worst_covid_country=worst_covid_country.sort_values(by='total_deaths_per_million',ascending=False)\n",
        "#p.sort(worst_covid_country, by='total_deaths_per_million',ascending=False)\n",
        "#worst_covid_country\n",
        "plt.figure(figsize=(15, 15))\n",
        "# plot\n",
        "#f, axes = plt.subplots(1, 2, figsize=(7, 7), sharex=True)\n",
        "#sns.lineplot(x='month', y='log_total_deaths', hue='location', data=worst_covid_country)\n",
        "#plt.title(\"Log Total deaths for the worst Countries World-wide\")\n",
        "sns.lineplot(x='month', y='total_deaths_per_million', hue='location', data=worst_covid_country)\n",
        "plt.title(\"Total deaths per million  for the worst Countries World-wide\")\n",
        "plt.show()\n",
        "#sns.lineplot(x='month', y='total_deaths_per_million', hue='location', size='poverty_index', data=worst_covid_country)\n",
        "#plt.title(\"Total death per million  for the worst Country in North_America\")\n",
        "#plt.show()"
      ],
      "execution_count": null,
      "outputs": []
    },
    {
      "cell_type": "code",
      "metadata": {
        "id": "Ak6kpvjvjB9E"
      },
      "source": [
        "#sns.hist( x='month', y='total_cases', color=\"red\", data=worst_covid_country)\n",
        "sns.catplot(x=\"month\", y=\"total_deaths\",kind=\"bar\",data=worst_covid_country)"
      ],
      "execution_count": null,
      "outputs": []
    },
    {
      "cell_type": "code",
      "metadata": {
        "id": "LcAcpmiUfl2H"
      },
      "source": [
        "worst_covid_country"
      ],
      "execution_count": null,
      "outputs": []
    },
    {
      "cell_type": "code",
      "metadata": {
        "id": "xtaOsMmkdyaQ"
      },
      "source": [
        "filter= World_Covid['continent']==\"Asia\"\n",
        "\n",
        "temp=World_Covid[filter]\n",
        "temp=temp.groupby(['location'])['new_deaths'].sum()\n",
        "\n",
        "np.sort(temp)[-20:]\n",
        "filter=temp>1000\n",
        "temp[filter].index\n"
      ],
      "execution_count": null,
      "outputs": []
    },
    {
      "cell_type": "markdown",
      "metadata": {
        "id": "8jtT03fPY0Ci"
      },
      "source": [
        "United Sate Covid"
      ]
    },
    {
      "cell_type": "code",
      "metadata": {
        "id": "AGHIhmDKak39"
      },
      "source": [
        "#sns.lineplot(x='Total Infected',y='Total Deaths', hue='Quarantine',data=covid19_by_country)#'Total Recovered'\n",
        "United_States_Covid['month']=pd.DatetimeIndex(United_States_Covid['submission_date']).month\n",
        "\n",
        "state_deaths_sum=United_States_Covid.groupby('state')['new_death'].sum()\n",
        "state_name=state_deaths_sum.index\n",
        "#state_sum[state_name[1]]\n",
        "\n",
        "tot_case_cut=np.sort(state_deaths_sum)[-6] #18948668\n",
        "filter=state_deaths_sum >tot_case_cut\n",
        "top_5_state=state_deaths_sum[filter]\n",
        "filter1 = United_States_Covid['state'].apply(lambda x: x in top_5_state)\n",
        "top_5_state_data=United_States_Covid[filter1]\n",
        "top_5_state_data\n",
        "\n",
        "United_States_Covid.head()\n",
        "#sns.scatterplot(x='submission_date',y='tot_cases', hue='state',data=United_States_Covid)\n",
        "plt.figure(figsize=(10, 10))\n",
        "sns.lineplot(x='month',y='', hue='state',data=top_5_state_data)\n",
        "plt.title(\"Total death  for the top five states with the most deaths in USA by 2020-10-6\")\n",
        "plt.show()"
      ],
      "execution_count": null,
      "outputs": []
    },
    {
      "cell_type": "code",
      "metadata": {
        "id": "nWuvYsJttyi2"
      },
      "source": [
        "#State monthly cases\n",
        "state_month_death_sum=United_States_Covid.groupby(['state','month'])['new_death'].sum()\n",
        "\n",
        "temp=pd.DataFrame(state_month_death_sum)\n",
        "temp=pd.DataFrame(temp.index.tolist())\n",
        "\n",
        "temp=pd.concat([temp,pd.DataFrame(state_month_death_sum.values)],axis=1).reindex(temp.index)\n",
        "temp.columns=['state','month','total_deaths']\n",
        "state_month_death_covid=temp\n",
        "state_month_death_covid\n",
        "\n",
        "state_month_case_sum=United_States_Covid.groupby(['state','month'])['new_case'].sum()\n",
        "\n",
        "temp=pd.DataFrame(state_month_case_sum)\n",
        "temp=pd.DataFrame(temp.index.tolist())\n",
        "\n",
        "temp=pd.concat([temp,pd.DataFrame(state_month_case_sum.values)],axis=1).reindex(temp.index)\n",
        "temp.columns=['state','month','total_cases']\n",
        "state_month_case_covid=temp\n",
        "state_month_case_covid\n",
        "\n",
        "\n",
        "state_deaths_sum=United_States_Covid.groupby('state')['new_death'].sum()\n",
        "state_name=state_deaths_sum.index\n",
        "#state_sum[state_name[1]]\n",
        "\n",
        "tot_case_cut=np.sort(state_deaths_sum)[-6] #18948668\n",
        "filter=state_deaths_sum >tot_case_cut\n",
        "top_5_state=state_deaths_sum[filter]\n",
        "filter1 = state_month_death_covid['state'].apply(lambda x: x in top_5_state)\n",
        "top_5_state_death_data=state_month_death_covid[filter1]\n",
        "top_5_state_death_data\n",
        "\n",
        "plt.figure(figsize=(10, 10))\n",
        "sns.lineplot(x='month',y='total_deaths', hue='state',data=top_5_state_death_data)\n",
        "plt.title(\"Total COVID_19 death  for the top five states with the most deaths in USA by 2020-10-6\")\n",
        "plt.show()\n"
      ],
      "execution_count": null,
      "outputs": []
    },
    {
      "cell_type": "code",
      "metadata": {
        "id": "qeiY5BzDdfFI"
      },
      "source": [
        "\n",
        "\n",
        "\n",
        "state_cases_sum=United_States_Covid.groupby('state')['new_case'].sum()\n",
        "state_name=state_cases_sum.index\n",
        "#state_sum[state_name[1]]\n",
        "\n",
        "tot_case_cut=np.sort(state_cases_sum)[-6] #18948668\n",
        "filter=state_cases_sum >tot_case_cut\n",
        "top_5_state=state_cases_sum[filter]\n",
        "filter1 = state_month_case_covid['state'].apply(lambda x: x in top_5_state)\n",
        "top_5_state_case_data=state_month_case_covid[filter1]\n",
        "top_5_state_case_data\n",
        "\n",
        "plt.figure(figsize=(10, 10))\n",
        "sns.lineplot(x='month',y='total_cases', hue='state',data=top_5_state_case_data)\n",
        "plt.title(\"Total COVID_19 cases  for the top five states in USA by 2020-10-6\")\n",
        "plt.show()"
      ],
      "execution_count": null,
      "outputs": []
    },
    {
      "cell_type": "markdown",
      "metadata": {
        "id": "10EBCwoxY6MP"
      },
      "source": [
        "MiXed Ploting Technique"
      ]
    },
    {
      "cell_type": "code",
      "metadata": {
        "id": "SUqoFuOyklsG"
      },
      "source": [
        "# Method 1: on the same Axis\n",
        "sns.distplot( df[\"sepal_length\"] , color=\"skyblue\", label=\"Sepal Length\")\n",
        "sns.distplot( df[\"sepal_width\"] , color=\"red\", label=\"Sepal Width\")\n",
        "sns.plt.legend()\n",
        "\n",
        "# plot\n",
        "f, axes = plt.subplots(2, 2, figsize=(7, 7), sharex=True)\n",
        "sns.distplot( df[\"sepal_length\"] , color=\"skyblue\", ax=axes[0, 0])\n",
        "sns.distplot( df[\"sepal_width\"] , color=\"olive\", ax=axes[0, 1])\n",
        "sns.distplot( df[\"petal_length\"] , color=\"gold\", ax=axes[1, 0])\n",
        "sns.distplot( df[\"petal_width\"] , color=\"teal\", ax=axes[1, 1])\n",
        "\n",
        "\n",
        "plt.hist([x, y], color=['r','b'], alpha=0.5)\n",
        "\n",
        "gapminder['gdpPercap'].hist(bins=1000,grid=False)\n",
        "plt.xlabel(\"gdpPercap\", fontsize=15)\n",
        "plt.ylabel(\"Frequency\",fontsize=15)\n",
        "plt.xscale('log')\n",
        "\n",
        "df = gapminder[gapminder.continent == 'Africa']\n",
        "sns.distplot(df['lifeExp'],  kde=False, label='Africa')\n",
        "\n",
        "data['Country'].value_counts().head(30).plot(kind='barh', figsize=(6,10))\n",
        "\n",
        "plt.savefig('medals.svg')\n",
        "\n",
        "import numpy as np\n",
        "plt.figure(figsize=(15,10))\n",
        "ax=sns.lineplot(x='month',y='sum',data=emp_data)\n",
        "plt.xticks(\n",
        "    rotation=90, \n",
        "    horizontalalignment='right',\n",
        "    fontweight='light',\n",
        "    fontsize='x-large')\n",
        "start, end = ax.get_xlim()\n",
        "stepsize= 3\n",
        "ax.xaxis.set_ticks(np.arange(start, end, stepsize))\n",
        "plt.show()"
      ],
      "execution_count": null,
      "outputs": []
    },
    {
      "cell_type": "markdown",
      "metadata": {
        "id": "vbr0LLPZZCty"
      },
      "source": [
        "United State death before Covid-19"
      ]
    },
    {
      "cell_type": "code",
      "metadata": {
        "id": "ctrHZq4DZHee"
      },
      "source": [
        "Weekly_Death_data.columns\n",
        "Weekly_Death_data.head()"
      ],
      "execution_count": null,
      "outputs": []
    },
    {
      "cell_type": "code",
      "metadata": {
        "id": "ZmF9SvbaZaqB"
      },
      "source": [
        "def indicator(x, a):\n",
        "  if x > a:\n",
        "    y='yes'\n",
        "  else:\n",
        "    y='no'\n",
        "  return y  \n",
        "\n",
        "\n",
        "Weekly_Death_data['month']=pd.DatetimeIndex(Weekly_Death_data['Week Ending Date']).month\n",
        "#Weekly_Death_data['month']=pd.DatetimeIndex(Weekly_Death_data['Week Ending Date']).year\n",
        "State_name=Weekly_Death_data['Jurisdiction'].unique()\n",
        "len(State_name) #54 state\n",
        "\n",
        "State_death= Weekly_Death_data.groupby(['Jurisdiction','Year'])['Number of Deaths'].sum()"
      ],
      "execution_count": null,
      "outputs": []
    },
    {
      "cell_type": "code",
      "metadata": {
        "id": "82pjEiuWbPGE"
      },
      "source": [
        "State_death[-10:]"
      ],
      "execution_count": null,
      "outputs": []
    },
    {
      "cell_type": "code",
      "metadata": {
        "id": "0Ug-jUGNbQ0X"
      },
      "source": [
        "\n",
        "#define total death for each state \n",
        "\n",
        "temp=pd.DataFrame(State_death)\n",
        "temp=pd.DataFrame(temp.index.tolist())\n",
        "\n",
        "temp=pd.concat([temp,pd.DataFrame(State_death.values)],axis=1).reindex(temp.index)\n",
        "temp.columns=['State','Year','total_deaths']\n",
        "state_year_deaths=temp\n",
        "state_year_deaths"
      ],
      "execution_count": null,
      "outputs": []
    },
    {
      "cell_type": "code",
      "metadata": {
        "id": "QIPMVgXHg5JT"
      },
      "source": [
        "#COVID_19\n",
        "USAStateABV_data=pd.read_csv('USAStateABV.csv')\n",
        "\n",
        "state_covid_cases=pd.DataFrame(state_cases_sum)\n",
        "\n",
        "state_covid_deaths=pd.DataFrame(state_deaths_sum)\n",
        "state_covid_deaths['Code']=state_covid_deaths.index\n",
        "state_covid_deaths_sorted=state_covid_deaths.sort_values(by='Code')\n",
        "#state_covid_deaths_sorted\n",
        "USAStateABV_data_sorted=USAStateABV_data.sort_values(by='Code')\n",
        "state_covid_deaths_sorted=pd.merge(state_covid_deaths_sorted,USAStateABV_data_sorted,how='right')\n",
        "state_covid_deaths_sorted=state_covid_deaths_sorted.sort_values(by='State')\n",
        "state_names=state_covid_deaths_sorted['State'].unique()\n",
        "len(state_names)\n",
        "\n",
        "filter=state_year_deaths['State'].apply(lambda x: True if x in state_names else False)\n",
        "filter\n",
        "state_year_deaths[filter]\n",
        "#state_year_deaths_sorted=state_year_deaths.sort_values(by=\"State\")\n",
        "#state_year_deaths_sorted=pd.merge(state_year_deaths_sorted,USAStateABV_data_sorted,how='inner')\n",
        "state_year_deaths_sorted=state_year_deaths[filter]\n",
        "len(state_covid_deaths_sorted['new_death'].values)#51\n",
        "len(state_year_deaths_sorted['State'].unique())\n"
      ],
      "execution_count": null,
      "outputs": []
    },
    {
      "cell_type": "code",
      "metadata": {
        "id": "eh1xrUrPhFn0"
      },
      "source": [
        "filter=state_covid_deaths_sorted['State']=='California'\n",
        "state_covid_deaths_sorted\n",
        "state_covid_deaths_sorted[filter]['new_death']\n",
        "filter=state_year_deaths_updated['State']=='California'\n",
        "state_year_deaths_updated[filter]['total_deaths_updated']\n",
        "filter=state_year_deaths['State']=='California'\n",
        "state_year_deaths_sorted[filter]['total_deaths']"
      ],
      "execution_count": null,
      "outputs": []
    },
    {
      "cell_type": "code",
      "metadata": {
        "id": "ZPLVsU84YWTQ"
      },
      "source": [
        "state_year_deaths_sorted[-5:]"
      ],
      "execution_count": null,
      "outputs": []
    },
    {
      "cell_type": "code",
      "metadata": {
        "id": "erBsPg8hVyZu"
      },
      "source": [
        "type(state_year_deaths_sorted[filter]['total_deaths'])"
      ],
      "execution_count": null,
      "outputs": []
    },
    {
      "cell_type": "code",
      "metadata": {
        "id": "qWMhCv-9V0Sl",
        "outputId": "e0b920b5-e205-4c25-a0ef-434d3f56a084",
        "colab": {
          "base_uri": "https://localhost:8080/",
          "height": 181
        }
      },
      "source": [
        "filter=state_year_deaths_sorted['Year']==2020\n",
        "state_year_deaths_sorted['total_deaths']= state_year_deaths_sorted['total_deaths'] +state_covid_deaths_sorted['new_death'] * filter\n"
      ],
      "execution_count": null,
      "outputs": [
        {
          "output_type": "error",
          "ename": "NameError",
          "evalue": "ignored",
          "traceback": [
            "\u001b[0;31m---------------------------------------------------------------------------\u001b[0m",
            "\u001b[0;31mNameError\u001b[0m                                 Traceback (most recent call last)",
            "\u001b[0;32m<ipython-input-5-b5566788e6af>\u001b[0m in \u001b[0;36m<module>\u001b[0;34m()\u001b[0m\n\u001b[0;32m----> 1\u001b[0;31m \u001b[0mfilter\u001b[0m\u001b[0;34m=\u001b[0m\u001b[0mstate_year_deaths_sorted\u001b[0m\u001b[0;34m[\u001b[0m\u001b[0;34m'Year'\u001b[0m\u001b[0;34m]\u001b[0m\u001b[0;34m==\u001b[0m\u001b[0;36m2020\u001b[0m\u001b[0;34m\u001b[0m\u001b[0;34m\u001b[0m\u001b[0m\n\u001b[0m\u001b[1;32m      2\u001b[0m \u001b[0mstate_year_deaths_sorted\u001b[0m\u001b[0;34m[\u001b[0m\u001b[0;34m'total_deaths'\u001b[0m\u001b[0;34m]\u001b[0m\u001b[0;34m=\u001b[0m \u001b[0mstate_year_deaths_sorted\u001b[0m\u001b[0;34m[\u001b[0m\u001b[0;34m'total_deaths'\u001b[0m\u001b[0;34m]\u001b[0m \u001b[0;34m+\u001b[0m\u001b[0mstate_covid_deaths_sorted\u001b[0m\u001b[0;34m[\u001b[0m\u001b[0;34m'new_death'\u001b[0m\u001b[0;34m]\u001b[0m \u001b[0;34m*\u001b[0m \u001b[0mfilter\u001b[0m\u001b[0;34m\u001b[0m\u001b[0;34m\u001b[0m\u001b[0m\n",
            "\u001b[0;31mNameError\u001b[0m: name 'state_year_deaths_sorted' is not defined"
          ]
        }
      ]
    },
    {
      "cell_type": "code",
      "metadata": {
        "id": "I4dLJmafUBFP"
      },
      "source": [
        ""
      ],
      "execution_count": null,
      "outputs": []
    },
    {
      "cell_type": "code",
      "metadata": {
        "id": "1l0rOlsLqpTG",
        "outputId": "091552d3-f308-446f-9faf-c40c1362ca82",
        "colab": {
          "base_uri": "https://localhost:8080/",
          "height": 773
        }
      },
      "source": [
        "filter=state_year_deaths_sorted['Year']==2020\n",
        "\n",
        "temp=state_year_deaths_sorted[filter]\n",
        "temp['total_deaths_updated']=[int(i) for i in (temp['total_deaths']+state_covid_deaths_sorted['new_death'].values)/10000]\n",
        "#state_year_deaths_sorted[filter]['total_deaths']=state_year_deaths_sorted[filter]['total_deaths']+state_covid_deaths_sorted['new_death'].values\n",
        "\n",
        "state_year_deaths_sorted[filter]['total_deaths'].apply(lambda x: x+)\n",
        "\n",
        "temp\n",
        "#state_year_deaths_sorted[filter]['total_deaths_updated']=temp['total_deaths_updated']\n",
        "filter=state_year_deaths_sorted['Year'] < 2020\n",
        "temp1=state_year_deaths_sorted[filter]\n",
        "temp1['total_deaths_updated']=temp1['total_deaths']/10000\n",
        "\n",
        "state_year_deaths_updated=pd.concat([temp1, temp],axis=0)\n",
        "\n",
        "\n",
        "state_year_deaths_updated['total_deaths_per_ten_thousand']=state_year_deaths_updated['total_deaths']/10000\n",
        "state_year_deaths_updated['total_deaths_updated_per_ten__thousand']=state_year_deaths_updated['total_deaths_updated']\n",
        "state_year_deaths_updated\n",
        "#%.08f\n",
        "\n",
        "np.sort(state_covid_deaths_sorted['new_death'])[-15:]\n",
        "\n",
        "filter=state_covid_deaths_sorted['new_death'] >7000\n",
        "bad_state=state_covid_deaths_sorted[filter]['State'].unique()\n",
        "filter=state_year_deaths_updated['State'].apply(lambda x: x in bad_state)\n",
        "\n",
        "final_15=state_year_deaths_updated[filter]\n",
        "\n",
        "final_15.iloc[np.argmax(final_15['total_deaths_updated_per_ten__thousand'])]['State']\n",
        "\n",
        "filter=state_year_deaths_sorted['State']=='California'\n",
        "state_year_deaths_sorted[filter]['total_deaths']\n",
        "california_death=state_year_deaths_sorted[filter]\n",
        "filter=state_covid_deaths_sorted['State']=='California'\n",
        "state_covid_deaths_sorted[filter]['new_death']\n",
        "\n",
        "california_covid_death=state_covid_deaths_sorted[filter]"
      ],
      "execution_count": null,
      "outputs": [
        {
          "output_type": "stream",
          "text": [
            "/usr/local/lib/python3.6/dist-packages/ipykernel_launcher.py:4: SettingWithCopyWarning: \n",
            "A value is trying to be set on a copy of a slice from a DataFrame.\n",
            "Try using .loc[row_indexer,col_indexer] = value instead\n",
            "\n",
            "See the caveats in the documentation: https://pandas.pydata.org/pandas-docs/stable/user_guide/indexing.html#returning-a-view-versus-a-copy\n",
            "  after removing the cwd from sys.path.\n"
          ],
          "name": "stderr"
        },
        {
          "output_type": "execute_result",
          "data": {
            "text/html": [
              "<div>\n",
              "<style scoped>\n",
              "    .dataframe tbody tr th:only-of-type {\n",
              "        vertical-align: middle;\n",
              "    }\n",
              "\n",
              "    .dataframe tbody tr th {\n",
              "        vertical-align: top;\n",
              "    }\n",
              "\n",
              "    .dataframe thead th {\n",
              "        text-align: right;\n",
              "    }\n",
              "</style>\n",
              "<table border=\"1\" class=\"dataframe\">\n",
              "  <thead>\n",
              "    <tr style=\"text-align: right;\">\n",
              "      <th></th>\n",
              "      <th>State</th>\n",
              "      <th>Year</th>\n",
              "      <th>total_deaths</th>\n",
              "      <th>total_deaths_updated</th>\n",
              "    </tr>\n",
              "  </thead>\n",
              "  <tbody>\n",
              "    <tr>\n",
              "      <th>5</th>\n",
              "      <td>Alabama</td>\n",
              "      <td>2020</td>\n",
              "      <td>62725.0</td>\n",
              "      <td>6</td>\n",
              "    </tr>\n",
              "    <tr>\n",
              "      <th>11</th>\n",
              "      <td>Alaska</td>\n",
              "      <td>2020</td>\n",
              "      <td>1634.0</td>\n",
              "      <td>0</td>\n",
              "    </tr>\n",
              "    <tr>\n",
              "      <th>...</th>\n",
              "      <td>...</td>\n",
              "      <td>...</td>\n",
              "      <td>...</td>\n",
              "      <td>...</td>\n",
              "    </tr>\n",
              "    <tr>\n",
              "      <th>317</th>\n",
              "      <td>Wisconsin</td>\n",
              "      <td>2020</td>\n",
              "      <td>59336.0</td>\n",
              "      <td>6</td>\n",
              "    </tr>\n",
              "    <tr>\n",
              "      <th>323</th>\n",
              "      <td>Wyoming</td>\n",
              "      <td>2020</td>\n",
              "      <td>2356.0</td>\n",
              "      <td>0</td>\n",
              "    </tr>\n",
              "  </tbody>\n",
              "</table>\n",
              "<p>51 rows × 4 columns</p>\n",
              "</div>"
            ],
            "text/plain": [
              "         State  Year  total_deaths  total_deaths_updated\n",
              "5    Alabama    2020  62725.0       6                   \n",
              "11   Alaska     2020  1634.0        0                   \n",
              "..      ...      ...     ...       ..                   \n",
              "317  Wisconsin  2020  59336.0       6                   \n",
              "323  Wyoming    2020  2356.0        0                   \n",
              "\n",
              "[51 rows x 4 columns]"
            ]
          },
          "metadata": {
            "tags": []
          },
          "execution_count": 377
        },
        {
          "output_type": "stream",
          "text": [
            "/usr/local/lib/python3.6/dist-packages/ipykernel_launcher.py:10: SettingWithCopyWarning: \n",
            "A value is trying to be set on a copy of a slice from a DataFrame.\n",
            "Try using .loc[row_indexer,col_indexer] = value instead\n",
            "\n",
            "See the caveats in the documentation: https://pandas.pydata.org/pandas-docs/stable/user_guide/indexing.html#returning-a-view-versus-a-copy\n",
            "  # Remove the CWD from sys.path while we load stuff.\n"
          ],
          "name": "stderr"
        },
        {
          "output_type": "execute_result",
          "data": {
            "text/html": [
              "<div>\n",
              "<style scoped>\n",
              "    .dataframe tbody tr th:only-of-type {\n",
              "        vertical-align: middle;\n",
              "    }\n",
              "\n",
              "    .dataframe tbody tr th {\n",
              "        vertical-align: top;\n",
              "    }\n",
              "\n",
              "    .dataframe thead th {\n",
              "        text-align: right;\n",
              "    }\n",
              "</style>\n",
              "<table border=\"1\" class=\"dataframe\">\n",
              "  <thead>\n",
              "    <tr style=\"text-align: right;\">\n",
              "      <th></th>\n",
              "      <th>State</th>\n",
              "      <th>Year</th>\n",
              "      <th>total_deaths</th>\n",
              "      <th>total_deaths_updated</th>\n",
              "      <th>total_deaths_per_ten_thousand</th>\n",
              "      <th>total_deaths_updated_per_ten__thousand</th>\n",
              "    </tr>\n",
              "  </thead>\n",
              "  <tbody>\n",
              "    <tr>\n",
              "      <th>0</th>\n",
              "      <td>Alabama</td>\n",
              "      <td>2015</td>\n",
              "      <td>77032.0</td>\n",
              "      <td>7.70</td>\n",
              "      <td>7.70</td>\n",
              "      <td>7.70</td>\n",
              "    </tr>\n",
              "    <tr>\n",
              "      <th>1</th>\n",
              "      <td>Alabama</td>\n",
              "      <td>2016</td>\n",
              "      <td>79430.0</td>\n",
              "      <td>7.94</td>\n",
              "      <td>7.94</td>\n",
              "      <td>7.94</td>\n",
              "    </tr>\n",
              "    <tr>\n",
              "      <th>...</th>\n",
              "      <td>...</td>\n",
              "      <td>...</td>\n",
              "      <td>...</td>\n",
              "      <td>...</td>\n",
              "      <td>...</td>\n",
              "      <td>...</td>\n",
              "    </tr>\n",
              "    <tr>\n",
              "      <th>317</th>\n",
              "      <td>Wisconsin</td>\n",
              "      <td>2020</td>\n",
              "      <td>59336.0</td>\n",
              "      <td>6.00</td>\n",
              "      <td>5.93</td>\n",
              "      <td>6.00</td>\n",
              "    </tr>\n",
              "    <tr>\n",
              "      <th>323</th>\n",
              "      <td>Wyoming</td>\n",
              "      <td>2020</td>\n",
              "      <td>2356.0</td>\n",
              "      <td>0.00</td>\n",
              "      <td>0.24</td>\n",
              "      <td>0.00</td>\n",
              "    </tr>\n",
              "  </tbody>\n",
              "</table>\n",
              "<p>306 rows × 6 columns</p>\n",
              "</div>"
            ],
            "text/plain": [
              "         State  Year  total_deaths  total_deaths_updated  \\\n",
              "0    Alabama    2015  77032.0       7.70                   \n",
              "1    Alabama    2016  79430.0       7.94                   \n",
              "..       ...     ...      ...        ...                   \n",
              "317  Wisconsin  2020  59336.0       6.00                   \n",
              "323  Wyoming    2020  2356.0        0.00                   \n",
              "\n",
              "     total_deaths_per_ten_thousand  total_deaths_updated_per_ten__thousand  \n",
              "0    7.70                           7.70                                    \n",
              "1    7.94                           7.94                                    \n",
              "..    ...                            ...                                    \n",
              "317  5.93                           6.00                                    \n",
              "323  0.24                           0.00                                    \n",
              "\n",
              "[306 rows x 6 columns]"
            ]
          },
          "metadata": {
            "tags": []
          },
          "execution_count": 377
        },
        {
          "output_type": "execute_result",
          "data": {
            "text/plain": [
              "array([3973, 4521, 4947, 5592, 5713, 7161, 7229, 8244, 9077, 9085, 9531, 14767, 16111, 16147, 16177], dtype=object)"
            ]
          },
          "metadata": {
            "tags": []
          },
          "execution_count": 377
        },
        {
          "output_type": "execute_result",
          "data": {
            "application/vnd.google.colaboratory.intrinsic+json": {
              "type": "string"
            },
            "text/plain": [
              "'California'"
            ]
          },
          "metadata": {
            "tags": []
          },
          "execution_count": 377
        },
        {
          "output_type": "execute_result",
          "data": {
            "text/plain": [
              "24    411494.0\n",
              "25    413324.0\n",
              "        ...   \n",
              "28    423222.0\n",
              "29    320353.0\n",
              "Name: total_deaths, Length: 6, dtype: float64"
            ]
          },
          "metadata": {
            "tags": []
          },
          "execution_count": 377
        },
        {
          "output_type": "execute_result",
          "data": {
            "text/plain": [
              "4    16177\n",
              "Name: new_death, dtype: object"
            ]
          },
          "metadata": {
            "tags": []
          },
          "execution_count": 377
        }
      ]
    },
    {
      "cell_type": "code",
      "metadata": {
        "id": "pgujvuWYpnKZ",
        "outputId": "d17db595-0d2b-447e-b96c-f0e038da50e2",
        "colab": {
          "base_uri": "https://localhost:8080/",
          "height": 233
        }
      },
      "source": [
        "final_15\n"
      ],
      "execution_count": null,
      "outputs": [
        {
          "output_type": "execute_result",
          "data": {
            "text/html": [
              "<div>\n",
              "<style scoped>\n",
              "    .dataframe tbody tr th:only-of-type {\n",
              "        vertical-align: middle;\n",
              "    }\n",
              "\n",
              "    .dataframe tbody tr th {\n",
              "        vertical-align: top;\n",
              "    }\n",
              "\n",
              "    .dataframe thead th {\n",
              "        text-align: right;\n",
              "    }\n",
              "</style>\n",
              "<table border=\"1\" class=\"dataframe\">\n",
              "  <thead>\n",
              "    <tr style=\"text-align: right;\">\n",
              "      <th></th>\n",
              "      <th>State</th>\n",
              "      <th>Year</th>\n",
              "      <th>total_deaths</th>\n",
              "      <th>total_deaths_updated</th>\n",
              "      <th>total_deaths_per_ten_thousand</th>\n",
              "      <th>total_deaths_updated_per_ten__thousand</th>\n",
              "    </tr>\n",
              "  </thead>\n",
              "  <tbody>\n",
              "    <tr>\n",
              "      <th>12</th>\n",
              "      <td>Arizona</td>\n",
              "      <td>2015</td>\n",
              "      <td>79724.0</td>\n",
              "      <td>79.72</td>\n",
              "      <td>79.72</td>\n",
              "      <td>79.72</td>\n",
              "    </tr>\n",
              "    <tr>\n",
              "      <th>13</th>\n",
              "      <td>Arizona</td>\n",
              "      <td>2016</td>\n",
              "      <td>81866.0</td>\n",
              "      <td>81.87</td>\n",
              "      <td>81.87</td>\n",
              "      <td>81.87</td>\n",
              "    </tr>\n",
              "    <tr>\n",
              "      <th>...</th>\n",
              "      <td>...</td>\n",
              "      <td>...</td>\n",
              "      <td>...</td>\n",
              "      <td>...</td>\n",
              "      <td>...</td>\n",
              "      <td>...</td>\n",
              "    </tr>\n",
              "    <tr>\n",
              "      <th>239</th>\n",
              "      <td>Pennsylvania</td>\n",
              "      <td>2020</td>\n",
              "      <td>151018.0</td>\n",
              "      <td>159.00</td>\n",
              "      <td>151.02</td>\n",
              "      <td>159.00</td>\n",
              "    </tr>\n",
              "    <tr>\n",
              "      <th>275</th>\n",
              "      <td>Texas</td>\n",
              "      <td>2020</td>\n",
              "      <td>240739.0</td>\n",
              "      <td>256.00</td>\n",
              "      <td>240.74</td>\n",
              "      <td>256.00</td>\n",
              "    </tr>\n",
              "  </tbody>\n",
              "</table>\n",
              "<p>72 rows × 6 columns</p>\n",
              "</div>"
            ],
            "text/plain": [
              "            State  Year  total_deaths  total_deaths_updated  \\\n",
              "12   Arizona       2015  79724.0       79.72                  \n",
              "13   Arizona       2016  81866.0       81.87                  \n",
              "..       ...        ...      ...         ...                  \n",
              "239  Pennsylvania  2020  151018.0      159.00                 \n",
              "275  Texas         2020  240739.0      256.00                 \n",
              "\n",
              "     total_deaths_per_ten_thousand  total_deaths_updated_per_ten__thousand  \n",
              "12   79.72                          79.72                                   \n",
              "13   81.87                          81.87                                   \n",
              "..     ...                            ...                                   \n",
              "239  151.02                         159.00                                  \n",
              "275  240.74                         256.00                                  \n",
              "\n",
              "[72 rows x 6 columns]"
            ]
          },
          "metadata": {
            "tags": []
          },
          "execution_count": 345
        }
      ]
    },
    {
      "cell_type": "code",
      "metadata": {
        "id": "tfoj0kaBcIch",
        "outputId": "87a7536f-115c-4818-dbb8-b6ed19e7193b",
        "colab": {
          "base_uri": "https://localhost:8080/",
          "height": 567
        }
      },
      "source": [
        "plt.figure(figsize=(8, 8))\n",
        "#sns.lineplot(x='Year',y='Covid_Death', hue='State',data=state_year_deaths_2020)\n",
        "sns.lineplot(x='Year',y='total_deaths_per_ten_thousand', hue='State',data=final_15)\n",
        "plt.title(\"Total Deaths  for all causes in USA by 2020-10-6 without COVID_19 Data for States with at least 7000 COVID_19 Deaths\")\n",
        "plt.show()"
      ],
      "execution_count": null,
      "outputs": [
        {
          "output_type": "execute_result",
          "data": {
            "text/plain": [
              "<Figure size 576x576 with 0 Axes>"
            ]
          },
          "metadata": {
            "tags": []
          },
          "execution_count": 379
        },
        {
          "output_type": "execute_result",
          "data": {
            "text/plain": [
              "<matplotlib.axes._subplots.AxesSubplot at 0x7fb02e93f908>"
            ]
          },
          "metadata": {
            "tags": []
          },
          "execution_count": 379
        },
        {
          "output_type": "execute_result",
          "data": {
            "text/plain": [
              "Text(0.5, 1.0, 'Total Deaths  for all causes in USA by 2020-10-6 without COVID_19 Data for States with at least 7000 COVID_19 Deaths')"
            ]
          },
          "metadata": {
            "tags": []
          },
          "execution_count": 379
        },
        {
          "output_type": "display_data",
          "data": {
            "image/png": "[encoded data removed]",
            "text/plain": [
              "<Figure size 576x576 with 1 Axes>"
            ]
          },
          "metadata": {
            "tags": [],
            "needs_background": "light"
          }
        }
      ]
    },
    {
      "cell_type": "code",
      "metadata": {
        "id": "Vt87dQ2tfvfd",
        "outputId": "18703bdb-4751-435f-c225-ed51897e6b63",
        "colab": {
          "base_uri": "https://localhost:8080/",
          "height": 885
        }
      },
      "source": [
        "\n",
        "plt.figure(figsize=(8, 8))\n",
        "#sns.lineplot(x='Year',y='Covid_Death', hue='State',data=state_year_deaths_2020)\n",
        "sns.lineplot(x='Year',y='total_deaths_updated_per_ten__thousand', hue='State',data=final_15)\n",
        "#sns.lineplot(x='Year',y='total_deaths_covid_included_per_ten__thousand', hue='State',data=temp)\n",
        "\n",
        "plt.title(\"Total Deaths  for all causes including COVID_19 in USA by 2020-10-6 for States with at least 7000 COVID_19 Deaths\")\n",
        "plt.show()\n",
        "\n",
        "state_year_deaths_updated\n",
        "\n",
        "final_15['total_deaths_updated_per_ten__thousand']"
      ],
      "execution_count": null,
      "outputs": [
        {
          "output_type": "execute_result",
          "data": {
            "text/plain": [
              "<Figure size 576x576 with 0 Axes>"
            ]
          },
          "metadata": {
            "tags": []
          },
          "execution_count": 381
        },
        {
          "output_type": "execute_result",
          "data": {
            "text/plain": [
              "<matplotlib.axes._subplots.AxesSubplot at 0x7fb02f432668>"
            ]
          },
          "metadata": {
            "tags": []
          },
          "execution_count": 381
        },
        {
          "output_type": "execute_result",
          "data": {
            "text/plain": [
              "Text(0.5, 1.0, 'Total Deaths  for all causes including COVID_19 in USA by 2020-10-6 for States with at least 7000 COVID_19 Deaths')"
            ]
          },
          "metadata": {
            "tags": []
          },
          "execution_count": 381
        },
        {
          "output_type": "display_data",
          "data": {
            "image/png": "[encoded data removed]",
            "text/plain": [
              "<Figure size 576x576 with 1 Axes>"
            ]
          },
          "metadata": {
            "tags": [],
            "needs_background": "light"
          }
        },
        {
          "output_type": "execute_result",
          "data": {
            "text/html": [
              "<div>\n",
              "<style scoped>\n",
              "    .dataframe tbody tr th:only-of-type {\n",
              "        vertical-align: middle;\n",
              "    }\n",
              "\n",
              "    .dataframe tbody tr th {\n",
              "        vertical-align: top;\n",
              "    }\n",
              "\n",
              "    .dataframe thead th {\n",
              "        text-align: right;\n",
              "    }\n",
              "</style>\n",
              "<table border=\"1\" class=\"dataframe\">\n",
              "  <thead>\n",
              "    <tr style=\"text-align: right;\">\n",
              "      <th></th>\n",
              "      <th>State</th>\n",
              "      <th>Year</th>\n",
              "      <th>total_deaths</th>\n",
              "      <th>total_deaths_updated</th>\n",
              "      <th>total_deaths_per_ten_thousand</th>\n",
              "      <th>total_deaths_updated_per_ten__thousand</th>\n",
              "    </tr>\n",
              "  </thead>\n",
              "  <tbody>\n",
              "    <tr>\n",
              "      <th>0</th>\n",
              "      <td>Alabama</td>\n",
              "      <td>2015</td>\n",
              "      <td>77032.0</td>\n",
              "      <td>7.70</td>\n",
              "      <td>7.70</td>\n",
              "      <td>7.70</td>\n",
              "    </tr>\n",
              "    <tr>\n",
              "      <th>1</th>\n",
              "      <td>Alabama</td>\n",
              "      <td>2016</td>\n",
              "      <td>79430.0</td>\n",
              "      <td>7.94</td>\n",
              "      <td>7.94</td>\n",
              "      <td>7.94</td>\n",
              "    </tr>\n",
              "    <tr>\n",
              "      <th>...</th>\n",
              "      <td>...</td>\n",
              "      <td>...</td>\n",
              "      <td>...</td>\n",
              "      <td>...</td>\n",
              "      <td>...</td>\n",
              "      <td>...</td>\n",
              "    </tr>\n",
              "    <tr>\n",
              "      <th>317</th>\n",
              "      <td>Wisconsin</td>\n",
              "      <td>2020</td>\n",
              "      <td>59336.0</td>\n",
              "      <td>6.00</td>\n",
              "      <td>5.93</td>\n",
              "      <td>6.00</td>\n",
              "    </tr>\n",
              "    <tr>\n",
              "      <th>323</th>\n",
              "      <td>Wyoming</td>\n",
              "      <td>2020</td>\n",
              "      <td>2356.0</td>\n",
              "      <td>0.00</td>\n",
              "      <td>0.24</td>\n",
              "      <td>0.00</td>\n",
              "    </tr>\n",
              "  </tbody>\n",
              "</table>\n",
              "<p>306 rows × 6 columns</p>\n",
              "</div>"
            ],
            "text/plain": [
              "         State  Year  total_deaths  total_deaths_updated  \\\n",
              "0    Alabama    2015  77032.0       7.70                   \n",
              "1    Alabama    2016  79430.0       7.94                   \n",
              "..       ...     ...      ...        ...                   \n",
              "317  Wisconsin  2020  59336.0       6.00                   \n",
              "323  Wyoming    2020  2356.0        0.00                   \n",
              "\n",
              "     total_deaths_per_ten_thousand  total_deaths_updated_per_ten__thousand  \n",
              "0    7.70                           7.70                                    \n",
              "1    7.94                           7.94                                    \n",
              "..    ...                            ...                                    \n",
              "317  5.93                           6.00                                    \n",
              "323  0.24                           0.00                                    \n",
              "\n",
              "[306 rows x 6 columns]"
            ]
          },
          "metadata": {
            "tags": []
          },
          "execution_count": 381
        },
        {
          "output_type": "execute_result",
          "data": {
            "text/plain": [
              "24     41.15\n",
              "25     41.33\n",
              "       ...  \n",
              "239    15.00\n",
              "275    25.00\n",
              "Name: total_deaths_updated_per_ten__thousand, Length: 60, dtype: float64"
            ]
          },
          "metadata": {
            "tags": []
          },
          "execution_count": 381
        }
      ]
    },
    {
      "cell_type": "code",
      "metadata": {
        "id": "6rD4X7Vi69Nq",
        "outputId": "186022c3-9642-48df-963d-4f2f334baa6c",
        "colab": {
          "base_uri": "https://localhost:8080/",
          "height": 250
        }
      },
      "source": [
        "california_death\n",
        "\n",
        "#.iloc[6,'total_deaths']=320353.0+16177\n",
        "temp=california_death['total_deaths']\n",
        "\n",
        "temp.values[5]+california_covid_death['new_death'].values[0]\n",
        "\n"
      ],
      "execution_count": null,
      "outputs": [
        {
          "output_type": "execute_result",
          "data": {
            "text/html": [
              "<div>\n",
              "<style scoped>\n",
              "    .dataframe tbody tr th:only-of-type {\n",
              "        vertical-align: middle;\n",
              "    }\n",
              "\n",
              "    .dataframe tbody tr th {\n",
              "        vertical-align: top;\n",
              "    }\n",
              "\n",
              "    .dataframe thead th {\n",
              "        text-align: right;\n",
              "    }\n",
              "</style>\n",
              "<table border=\"1\" class=\"dataframe\">\n",
              "  <thead>\n",
              "    <tr style=\"text-align: right;\">\n",
              "      <th></th>\n",
              "      <th>State</th>\n",
              "      <th>Year</th>\n",
              "      <th>total_deaths</th>\n",
              "    </tr>\n",
              "  </thead>\n",
              "  <tbody>\n",
              "    <tr>\n",
              "      <th>24</th>\n",
              "      <td>California</td>\n",
              "      <td>2015</td>\n",
              "      <td>411494.0</td>\n",
              "    </tr>\n",
              "    <tr>\n",
              "      <th>25</th>\n",
              "      <td>California</td>\n",
              "      <td>2016</td>\n",
              "      <td>413324.0</td>\n",
              "    </tr>\n",
              "    <tr>\n",
              "      <th>...</th>\n",
              "      <td>...</td>\n",
              "      <td>...</td>\n",
              "      <td>...</td>\n",
              "    </tr>\n",
              "    <tr>\n",
              "      <th>28</th>\n",
              "      <td>California</td>\n",
              "      <td>2019</td>\n",
              "      <td>423222.0</td>\n",
              "    </tr>\n",
              "    <tr>\n",
              "      <th>29</th>\n",
              "      <td>California</td>\n",
              "      <td>2020</td>\n",
              "      <td>320353.0</td>\n",
              "    </tr>\n",
              "  </tbody>\n",
              "</table>\n",
              "<p>6 rows × 3 columns</p>\n",
              "</div>"
            ],
            "text/plain": [
              "         State  Year  total_deaths\n",
              "24  California  2015  411494.0    \n",
              "25  California  2016  413324.0    \n",
              "..         ...   ...       ...    \n",
              "28  California  2019  423222.0    \n",
              "29  California  2020  320353.0    \n",
              "\n",
              "[6 rows x 3 columns]"
            ]
          },
          "metadata": {
            "tags": []
          },
          "execution_count": 369
        },
        {
          "output_type": "execute_result",
          "data": {
            "text/plain": [
              "336530.0"
            ]
          },
          "metadata": {
            "tags": []
          },
          "execution_count": 369
        }
      ]
    }
  ]
}